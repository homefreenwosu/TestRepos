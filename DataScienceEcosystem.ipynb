{
 "cells": [
  {
   "cell_type": "markdown",
   "id": "bdce50df-885c-445b-8885-341fb2a4013a",
   "metadata": {},
   "source": [
    "# Data Science Tools and Ecosystem"
   ]
  },
  {
   "cell_type": "markdown",
   "id": "d917556d-81cc-4bb0-89b6-c4138ba93ac1",
   "metadata": {},
   "source": [
    "In this notebook, Data Science Tools and Ecosystems are summarized"
   ]
  },
  {
   "cell_type": "markdown",
   "id": "c15eb46a-4aca-4358-82b2-eaa3c1a9eac5",
   "metadata": {},
   "source": [
    "**Objectives:**\n",
    "* List popular languages for Data Science\n",
    "* List commonly used libraries by Data Scientists\n",
    "* List Data Science tools\n",
    "* Create Arithmetic Expressions in Python\n"
   ]
  },
  {
   "cell_type": "markdown",
   "id": "080e22bd-6a87-4a73-abe4-5982f0cd2888",
   "metadata": {},
   "source": [
    "Some of the popular languages that Data Scientists use are:"
   ]
  },
  {
   "cell_type": "markdown",
   "id": "6025e68d-55f2-412b-beba-2113cce27f92",
   "metadata": {},
   "source": [
    "1. Python\n",
    "2. R\n",
    "3. SQL\n",
    "4. Java\n",
    "5. Scala\n",
    "6. C++\n",
    "7. Julia"
   ]
  },
  {
   "cell_type": "markdown",
   "id": "97e2fbf3-6beb-4d7c-bb50-ecf3318c028c",
   "metadata": {},
   "source": [
    "Some of the commonly used libraries used by Data Scientists include:\n",
    "1. Pandas\n",
    "2. SciPy\n",
    "3. NumPy\n",
    "4. Matplotlib"
   ]
  },
  {
   "cell_type": "markdown",
   "id": "5f4cc8e6-f83b-4c49-a89a-37c4f8f373a4",
   "metadata": {},
   "source": [
    "| Data Science Tools |\n",
    "|----------------------|\n",
    "| Weka |\n",
    "| Java-ML |\n",
    "| Apache MLlib |"
   ]
  },
  {
   "cell_type": "markdown",
   "id": "757099ca-799e-41fe-acd7-b031324370f8",
   "metadata": {},
   "source": [
    "### Below are a few examples of evaluating arithmetic expressions in Python."
   ]
  },
  {
   "cell_type": "code",
   "execution_count": 6,
   "id": "f950721c-b7b6-4b44-8184-56bccb2d753a",
   "metadata": {},
   "outputs": [
    {
     "data": {
      "text/plain": [
       "17"
      ]
     },
     "execution_count": 6,
     "metadata": {},
     "output_type": "execute_result"
    }
   ],
   "source": [
    "# This a simple arithmetic expression to mutiply then add integers\n",
    "(3*4)+5"
   ]
  },
  {
   "cell_type": "code",
   "execution_count": 8,
   "id": "ceb1bb5c-9767-486f-b82e-f9c57269baf8",
   "metadata": {},
   "outputs": [
    {
     "data": {
      "text/plain": [
       "3.3333333333333335"
      ]
     },
     "execution_count": 8,
     "metadata": {},
     "output_type": "execute_result"
    }
   ],
   "source": [
    "# This will convert 200 minutes to hours by diving by 60\n",
    "200/60"
   ]
  },
  {
   "cell_type": "markdown",
   "id": "7f6c3ea4-8be6-4964-aa73-a1ca6adbd70b",
   "metadata": {},
   "source": [
    "## Author\n",
    "Humphrey Nwosu"
   ]
  },
  {
   "cell_type": "code",
   "execution_count": null,
   "id": "27ffff00-5194-4849-8ce7-5217b97200f1",
   "metadata": {},
   "outputs": [],
   "source": []
  }
 ],
 "metadata": {
  "kernelspec": {
   "display_name": "Python [conda env:Test_Env]",
   "language": "python",
   "name": "conda-env-Test_Env-py"
  },
  "language_info": {
   "codemirror_mode": {
    "name": "ipython",
    "version": 3
   },
   "file_extension": ".py",
   "mimetype": "text/x-python",
   "name": "python",
   "nbconvert_exporter": "python",
   "pygments_lexer": "ipython3",
   "version": "3.13.7"
  }
 },
 "nbformat": 4,
 "nbformat_minor": 5
}
